{
 "cells": [
  {
   "cell_type": "markdown",
   "id": "d18b6ad1-8dde-4fe9-9be6-e3cec15005a4",
   "metadata": {},
   "source": [
    "# 03 — Modeling\n",
    "\n",
    "**Goal:** build a simple, readable baseline classifier (Logistic Regression) on the **cleaned** Titanic data and evaluate it.\n",
    "\n",
    "**Plan**\n",
    "- Load the cleaned dataset from `02`  \n",
    "- Feature engineering for ML (FamilySize, encodings)  \n",
    "- Select features & target, train/test split (with stratify)  \n",
    "- Train Logistic Regression (baseline)  \n",
    "- Evaluate: accuracy, precision/recall/F1, confusion matrix (heatmap)  \n",
    "- Save artifacts (metrics JSON + figures) for `04_results`\n"
   ]
  },
  {
   "cell_type": "code",
   "execution_count": 3,
   "id": "8b6140e6-53da-4bd3-b5ad-679204a3be47",
   "metadata": {},
   "outputs": [],
   "source": [
    "import pandas as pd\n",
    "import numpy as np\n",
    "\n",
    "from sklearn.model_selection import train_test_split\n",
    "from sklearn.linear_model import LogisticRegression\n",
    "from sklearn.metrics import (\n",
    "    accuracy_score, precision_recall_fscore_support,\n",
    "    classification_report, confusion_matrix, roc_auc_score, RocCurveDisplay\n",
    ")\n",
    "\n",
    "import matplotlib.pyplot as plt\n",
    "import seaborn as sns\n",
    "import json\n"
   ]
  },
  {
   "cell_type": "markdown",
   "id": "2434362d-9a91-4c00-ac6f-a46eb890ae39",
   "metadata": {},
   "source": [
    "### Load cleaned data\n",
    "\n",
    "We use the output from **02** so modeling is reproducible and not tied to raw-data quirks.\n"
   ]
  },
  {
   "cell_type": "code",
   "execution_count": 4,
   "id": "bd68c6ab-6e4c-4a6b-b81a-39db4b0ca0b8",
   "metadata": {},
   "outputs": [
    {
     "name": "stdout",
     "output_type": "stream",
     "text": [
      "Cleaned shape: (891, 11)\n"
     ]
    },
    {
     "data": {
      "text/html": [
       "<div>\n",
       "<style scoped>\n",
       "    .dataframe tbody tr th:only-of-type {\n",
       "        vertical-align: middle;\n",
       "    }\n",
       "\n",
       "    .dataframe tbody tr th {\n",
       "        vertical-align: top;\n",
       "    }\n",
       "\n",
       "    .dataframe thead th {\n",
       "        text-align: right;\n",
       "    }\n",
       "</style>\n",
       "<table border=\"1\" class=\"dataframe\">\n",
       "  <thead>\n",
       "    <tr style=\"text-align: right;\">\n",
       "      <th></th>\n",
       "      <th>PassengerId</th>\n",
       "      <th>Survived</th>\n",
       "      <th>Pclass</th>\n",
       "      <th>Name</th>\n",
       "      <th>Sex</th>\n",
       "      <th>Age</th>\n",
       "      <th>SibSp</th>\n",
       "      <th>Parch</th>\n",
       "      <th>Ticket</th>\n",
       "      <th>Fare</th>\n",
       "      <th>Embarked</th>\n",
       "    </tr>\n",
       "  </thead>\n",
       "  <tbody>\n",
       "    <tr>\n",
       "      <th>0</th>\n",
       "      <td>1</td>\n",
       "      <td>0</td>\n",
       "      <td>3</td>\n",
       "      <td>Braund, Mr. Owen Harris</td>\n",
       "      <td>male</td>\n",
       "      <td>22.0</td>\n",
       "      <td>1</td>\n",
       "      <td>0</td>\n",
       "      <td>A/5 21171</td>\n",
       "      <td>7.2500</td>\n",
       "      <td>S</td>\n",
       "    </tr>\n",
       "    <tr>\n",
       "      <th>1</th>\n",
       "      <td>2</td>\n",
       "      <td>1</td>\n",
       "      <td>1</td>\n",
       "      <td>Cumings, Mrs. John Bradley (Florence Briggs Th...</td>\n",
       "      <td>female</td>\n",
       "      <td>38.0</td>\n",
       "      <td>1</td>\n",
       "      <td>0</td>\n",
       "      <td>PC 17599</td>\n",
       "      <td>71.2833</td>\n",
       "      <td>C</td>\n",
       "    </tr>\n",
       "    <tr>\n",
       "      <th>2</th>\n",
       "      <td>3</td>\n",
       "      <td>1</td>\n",
       "      <td>3</td>\n",
       "      <td>Heikkinen, Miss. Laina</td>\n",
       "      <td>female</td>\n",
       "      <td>26.0</td>\n",
       "      <td>0</td>\n",
       "      <td>0</td>\n",
       "      <td>STON/O2. 3101282</td>\n",
       "      <td>7.9250</td>\n",
       "      <td>S</td>\n",
       "    </tr>\n",
       "  </tbody>\n",
       "</table>\n",
       "</div>"
      ],
      "text/plain": [
       "   PassengerId  Survived  Pclass  \\\n",
       "0            1         0       3   \n",
       "1            2         1       1   \n",
       "2            3         1       3   \n",
       "\n",
       "                                                Name     Sex   Age  SibSp  \\\n",
       "0                            Braund, Mr. Owen Harris    male  22.0      1   \n",
       "1  Cumings, Mrs. John Bradley (Florence Briggs Th...  female  38.0      1   \n",
       "2                             Heikkinen, Miss. Laina  female  26.0      0   \n",
       "\n",
       "   Parch            Ticket     Fare Embarked  \n",
       "0      0         A/5 21171   7.2500        S  \n",
       "1      0          PC 17599  71.2833        C  \n",
       "2      0  STON/O2. 3101282   7.9250        S  "
      ]
     },
     "execution_count": 4,
     "metadata": {},
     "output_type": "execute_result"
    }
   ],
   "source": [
    "df_clean = pd.read_csv(\"../data/processed/titanic_cleaned.csv\")\n",
    "print(\"Cleaned shape:\", df_clean.shape)\n",
    "df_clean.head(3)"
   ]
  },
  {
   "cell_type": "markdown",
   "id": "c62eca4b-50cf-4264-8444-9b9e4d945708",
   "metadata": {},
   "source": [
    "### Feature engineering (for modeling)\n",
    "\n",
    "Transform categorical features into numbers and create a useful aggregate:\n",
    "\n",
    "- **FamilySize** = `SibSp + Parch + 1` (solo = 1, larger number = bigger group)\n",
    "- **Sex** → numeric (`male=0`, `female=1`)\n",
    "- **Embarked** → one-hot dummies (drop the first to avoid redundancy)\n"
   ]
  },
  {
   "cell_type": "code",
   "execution_count": 5,
   "id": "eab38ea1-05bf-4ffc-9890-32201bde1313",
   "metadata": {},
   "outputs": [
    {
     "data": {
      "text/html": [
       "<div>\n",
       "<style scoped>\n",
       "    .dataframe tbody tr th:only-of-type {\n",
       "        vertical-align: middle;\n",
       "    }\n",
       "\n",
       "    .dataframe tbody tr th {\n",
       "        vertical-align: top;\n",
       "    }\n",
       "\n",
       "    .dataframe thead th {\n",
       "        text-align: right;\n",
       "    }\n",
       "</style>\n",
       "<table border=\"1\" class=\"dataframe\">\n",
       "  <thead>\n",
       "    <tr style=\"text-align: right;\">\n",
       "      <th></th>\n",
       "      <th>Sex</th>\n",
       "      <th>Pclass</th>\n",
       "      <th>Age</th>\n",
       "      <th>Fare</th>\n",
       "      <th>FamilySize</th>\n",
       "      <th>Embarked_Q</th>\n",
       "      <th>Embarked_S</th>\n",
       "      <th>Survived</th>\n",
       "    </tr>\n",
       "  </thead>\n",
       "  <tbody>\n",
       "    <tr>\n",
       "      <th>0</th>\n",
       "      <td>0</td>\n",
       "      <td>3</td>\n",
       "      <td>22.0</td>\n",
       "      <td>7.2500</td>\n",
       "      <td>2</td>\n",
       "      <td>False</td>\n",
       "      <td>True</td>\n",
       "      <td>0</td>\n",
       "    </tr>\n",
       "    <tr>\n",
       "      <th>1</th>\n",
       "      <td>1</td>\n",
       "      <td>1</td>\n",
       "      <td>38.0</td>\n",
       "      <td>71.2833</td>\n",
       "      <td>2</td>\n",
       "      <td>False</td>\n",
       "      <td>False</td>\n",
       "      <td>1</td>\n",
       "    </tr>\n",
       "    <tr>\n",
       "      <th>2</th>\n",
       "      <td>1</td>\n",
       "      <td>3</td>\n",
       "      <td>26.0</td>\n",
       "      <td>7.9250</td>\n",
       "      <td>1</td>\n",
       "      <td>False</td>\n",
       "      <td>True</td>\n",
       "      <td>1</td>\n",
       "    </tr>\n",
       "  </tbody>\n",
       "</table>\n",
       "</div>"
      ],
      "text/plain": [
       "   Sex  Pclass   Age     Fare  FamilySize  Embarked_Q  Embarked_S  Survived\n",
       "0    0       3  22.0   7.2500           2       False        True         0\n",
       "1    1       1  38.0  71.2833           2       False       False         1\n",
       "2    1       3  26.0   7.9250           1       False        True         1"
      ]
     },
     "execution_count": 5,
     "metadata": {},
     "output_type": "execute_result"
    }
   ],
   "source": [
    "df_model = df_clean.copy()\n",
    "\n",
    "# Family size\n",
    "df_model[\"FamilySize\"] = df_model[\"SibSp\"] + df_model[\"Parch\"] + 1\n",
    "\n",
    "# Encode Sex\n",
    "df_model[\"Sex\"] = df_model[\"Sex\"].map({\"male\": 0, \"female\": 1})\n",
    "\n",
    "# One-hot encode Embarked (drop_first to avoid dummy trap)\n",
    "df_model = pd.get_dummies(df_model, columns=[\"Embarked\"], drop_first=True)\n",
    "\n",
    "# Quick check\n",
    "df_model.filter([\"Sex\",\"Pclass\",\"Age\",\"Fare\",\"FamilySize\",\"Embarked_Q\",\"Embarked_S\",\"Survived\"]).head(3)\n"
   ]
  },
  {
   "cell_type": "markdown",
   "id": "3f32fb4e-817e-4407-9ff0-96fd16a16887",
   "metadata": {},
   "source": [
    "### Select features and train/test split\n",
    "\n",
    "We pick simple, interpretable signals:\n",
    "`Pclass, Sex, Age, Fare, FamilySize, Embarked_Q, Embarked_S`.\n",
    "\n",
    "Use an **80/20** split with `stratify=y` so survival ratio is preserved in train/test.\n"
   ]
  },
  {
   "cell_type": "code",
   "execution_count": 6,
   "id": "c6081907-b144-4f84-afb9-97f231fee015",
   "metadata": {},
   "outputs": [
    {
     "data": {
      "text/plain": [
       "((712, 7), (179, 7))"
      ]
     },
     "execution_count": 6,
     "metadata": {},
     "output_type": "execute_result"
    }
   ],
   "source": [
    "feature_cols = [\"Pclass\", \"Sex\", \"Age\", \"Fare\", \"FamilySize\", \"Embarked_Q\", \"Embarked_S\"]\n",
    "X = df_model[feature_cols]\n",
    "y = df_model[\"Survived\"]\n",
    "\n",
    "X_train, X_test, y_train, y_test = train_test_split(\n",
    "    X, y, test_size=0.20, random_state=42, stratify=y\n",
    ")\n",
    "\n",
    "X_train.shape, X_test.shape\n"
   ]
  },
  {
   "cell_type": "markdown",
   "id": "d64c539d-4daf-4566-9360-b17af303d882",
   "metadata": {},
   "source": [
    "### Train a Logistic Regression baseline\n",
    "\n",
    "Logistic Regression is a solid, quick baseline for binary classification.  \n",
    "We increase `max_iter` to ensure convergence.\n"
   ]
  },
  {
   "cell_type": "code",
   "execution_count": 7,
   "id": "a8c2a4d4-650b-4245-818c-a6308f4c9bf2",
   "metadata": {},
   "outputs": [],
   "source": [
    "from sklearn.linear_model import LogisticRegression\n",
    "from sklearn.metrics import accuracy_score, precision_score, recall_score, f1_score, confusion_matrix, roc_auc_score\n",
    "\n",
    "model = LogisticRegression(max_iter=1000)\n",
    "model.fit(X_train, y_train)\n",
    "\n",
    "y_pred = model.predict(X_test)\n",
    "y_proba = model.predict_proba(X_test)[:, 1]  \n",
    "model = LogisticRegression(max_iter=1000)\n",
    "model.fit(X_train, y_train)\n",
    "\n",
    "y_pred = model.predict(X_test)\n",
    "y_proba = model.predict_proba(X_test)[:, 1]  \n"
   ]
  },
  {
   "cell_type": "code",
   "execution_count": 9,
   "id": "43f9af8d-93f1-494e-8600-86dbd6ffae73",
   "metadata": {},
   "outputs": [
    {
     "name": "stdout",
     "output_type": "stream",
     "text": [
      "Accuracy : 0.793\n",
      "Precision: 0.767\n",
      "Recall   : 0.667\n",
      "F1-score : 0.713\n",
      "ROC-AUC  : 0.84\n"
     ]
    }
   ],
   "source": [
    "acc  = accuracy_score(y_test, y_pred)\n",
    "prec = precision_score(y_test, y_pred)\n",
    "rec  = recall_score(y_test, y_pred)\n",
    "f1   = f1_score(y_test, y_pred)\n",
    "auc  = roc_auc_score(y_test, y_proba)\n",
    "\n",
    "print(\"Accuracy :\", round(acc, 3))\n",
    "print(\"Precision:\", round(prec, 3))\n",
    "print(\"Recall   :\", round(rec, 3))\n",
    "print(\"F1-score :\", round(f1, 3))\n",
    "print(\"ROC-AUC  :\", round(auc, 3))"
   ]
  },
  {
   "cell_type": "markdown",
   "id": "58182a85-a8d2-4d68-ad52-637693361cc0",
   "metadata": {},
   "source": [
    "### Confusion Matrix (heatmap)\n",
    "\n",
    "Why: raw numbers are hard to scan; a heatmap makes errors and correct predictions obvious at a glance.\n",
    "\n",
    "What to look for:\n",
    "- **Top-left (TN):** correctly predicted *did not survive*\n",
    "- **Bottom-right (TP):** correctly predicted *survived*\n",
    "- **Off-diagonals (FP/FN):** mistakes\n",
    "\n",
    "We’ll also **save the figure** to `reports/figures/confusion_matrix.png` so it shows up in the repo and can be reused in the results notebook.\n"
   ]
  },
  {
   "cell_type": "code",
   "execution_count": 10,
   "id": "fc71a5ff-401a-44b8-bdd4-bfbefafd5021",
   "metadata": {},
   "outputs": [
    {
     "data": {
      "image/png": "[encoded data removed]",
      "text/plain": [
       "<Figure size 600x400 with 2 Axes>"
      ]
     },
     "metadata": {},
     "output_type": "display_data"
    }
   ],
   "source": [
    "import matplotlib.pyplot as plt\n",
    "import seaborn as sns\n",
    "from sklearn.metrics import confusion_matrix\n",
    "\n",
    "cm = confusion_matrix(y_test, y_pred)\n",
    "\n",
    "plt.figure(figsize=(6,4))\n",
    "sns.heatmap(cm, annot=True, fmt=\"d\",\n",
    "            xticklabels=[\"Did not survive\", \"Survived\"],\n",
    "            yticklabels=[\"Did not survive\", \"Survived\"])\n",
    "plt.xlabel(\"Predicted\"); plt.ylabel(\"Actual\")\n",
    "plt.title(\"Confusion Matrix — Logistic Regression\")\n",
    "plt.tight_layout()\n",
    "plt.savefig(\"../reports/figures/confusion_matrix.png\", dpi=300, bbox_inches=\"tight\")\n",
    "plt.show()\n"
   ]
  },
  {
   "cell_type": "markdown",
   "id": "71961f6d-7168-44b8-b0d5-f79f6ecca855",
   "metadata": {},
   "source": [
    "### Save metrics for the results notebook\n",
    "\n",
    "Why: storing metrics in a small JSON file lets us **reuse** them in `04_results.ipynb` and keeps results reproducible.\n",
    "\n",
    "Saved fields:\n",
    "- `accuracy`, `precision`, `recall`, `f1`, `roc_auc`\n",
    "- optional counts (train/test sizes) and the list of features\n",
    "\n",
    "Output path: `reports/metrics.json`\n"
   ]
  },
  {
   "cell_type": "code",
   "execution_count": 11,
   "id": "27eb859d-8357-4004-ba53-595b941229a2",
   "metadata": {},
   "outputs": [
    {
     "name": "stdout",
     "output_type": "stream",
     "text": [
      "Saved: ../reports/metrics.json\n"
     ]
    }
   ],
   "source": [
    "import json\n",
    "\n",
    "metrics = {\n",
    "    \"accuracy\": float(acc),\n",
    "    \"precision\": float(prec),\n",
    "    \"recall\": float(rec),\n",
    "    \"f1\": float(f1),\n",
    "    \"roc_auc\": float(auc)\n",
    "}\n",
    "with open(\"../reports/metrics.json\", \"w\") as f:\n",
    "    json.dump(metrics, f, indent=2)\n",
    "\n",
    "print(\"Saved: ../reports/metrics.json\")\n"
   ]
  }
 ],
 "metadata": {
  "kernelspec": {
   "display_name": "Python 3 (ipykernel)",
   "language": "python",
   "name": "python3"
  },
  "language_info": {
   "codemirror_mode": {
    "name": "ipython",
    "version": 3
   },
   "file_extension": ".py",
   "mimetype": "text/x-python",
   "name": "python",
   "nbconvert_exporter": "python",
   "pygments_lexer": "ipython3",
   "version": "3.11.13"
  }
 },
 "nbformat": 4,
 "nbformat_minor": 5
}
